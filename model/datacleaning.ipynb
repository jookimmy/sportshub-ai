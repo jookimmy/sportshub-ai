{
 "metadata": {
  "language_info": {
   "codemirror_mode": {
    "name": "ipython",
    "version": 3
   },
   "file_extension": ".py",
   "mimetype": "text/x-python",
   "name": "python",
   "nbconvert_exporter": "python",
   "pygments_lexer": "ipython3",
   "version": "3.8.2-final"
  },
  "orig_nbformat": 2,
  "kernelspec": {
   "name": "python3",
   "display_name": "Python 3.8.2 64-bit",
   "metadata": {
    "interpreter": {
     "hash": "31f2aee4e71d21fbe5cf8b01ff0e069b9275f58929596ceb00d14d90e3e16cd6"
    }
   }
  }
 },
 "nbformat": 4,
 "nbformat_minor": 2,
 "cells": [
  {
   "cell_type": "code",
   "execution_count": 2,
   "metadata": {},
   "outputs": [
    {
     "output_type": "stream",
     "name": "stderr",
     "text": [
      "[nltk_data] Downloading package stopwords to\n[nltk_data]     /home/jookimmy/nltk_data...\n[nltk_data]   Package stopwords is already up-to-date!\n[nltk_data] Downloading package wordnet to /home/jookimmy/nltk_data...\n[nltk_data]   Package wordnet is already up-to-date!\n[nltk_data] Downloading package punkt to /home/jookimmy/nltk_data...\n[nltk_data]   Package punkt is already up-to-date!\n"
     ]
    },
    {
     "output_type": "execute_result",
     "data": {
      "text/plain": [
       "True"
      ]
     },
     "metadata": {},
     "execution_count": 2
    }
   ],
   "source": [
    "import pandas as pd\n",
    "import numpy as np\n",
    "import sklearn\n",
    "import nltk\n",
    "import preprocessor as tp\n",
    "import string\n",
    "import datacleaning as dc\n",
    "from nltk.tokenize import word_tokenize\n",
    "from nltk.corpus import stopwords\n",
    "from nltk.stem import WordNetLemmatizer\n",
    "from sklearn.feature_extraction.text import TfidfVectorizer\n",
    "from sklearn.linear_model import LogisticRegression\n",
    "from sklearn.model_selection import train_test_split\n",
    "nltk.download('stopwords')\n",
    "nltk.download('wordnet')\n",
    "nltk.download('punkt')"
   ]
  },
  {
   "cell_type": "code",
   "execution_count": 29,
   "metadata": {
    "tags": []
   },
   "outputs": [],
   "source": [
    "trainX, trainY, testX, testY = dc.parse_data('nbatweets.csv')\n",
    "trainX = [dc.preprocess(text) for text in trainX]\n",
    "testX = [dc.preprocess(text) for text in testX]\n"
   ]
  },
  {
   "cell_type": "code",
   "execution_count": 37,
   "metadata": {
    "tags": []
   },
   "outputs": [
    {
     "output_type": "stream",
     "name": "stdout",
     "text": [
      "['davis is a sensible addition for minnesota a physical vet off the frontcourt bench and a terrific pro for a young roster', 'great opportunity for tj leaf the 18th overall pick in the 2017 draft who wa never able to crack former coach nate mcmillans rotation with pacer a the thunder rebuild leaf a 6 10 forward get a chance to earn minute with thunder URL', 'one more deserving rookie max extension candidate in this 2017 draft class miami bam adebayo URL', 'smith had a difficult first two season in nba with sixer playing only 13 game because of injuryillness he wa the 16th pick in 2018 draft out of texas tech like josh jackson another play on a young player for piston bradley a 7 footer to play behind embiidhoward URL', 'an important fit for the buck especially because of the way craig can guard all over the floor with denver michael malone used craig to defend many of the elite wing in the western conference URL', 'espn source tentative christmas day schedule URL', 'under circumstance for cancellation of 2020 2021 season nba say occurrence of independent case ie case not spread among player or team staff or a small or otherwise expected number of covid 19 case will not require a decision to suspend or cancel the 2020 21 season', 'one of the key fact of protocol guide URL', 'a nba organization begin daily coronavirus testing this weekend and prepare for start of training camp next week team were issued a 134 page health and safety protocol guide for the 2020 2021 season this morning per source now the nba try this outside of a bubble', 'a expected nba postpones 2021 all star in indianapolis city will get game in 2024', 'golden state g klay thompson will undergo testing within the next few day on a leg injury suffered in a workout in southern california today source tell espn the severity of the injury is unclear thompson missed the 2019 2020 season with a torn acl in his left knee', 'boston is targeting aaron nesmith at no 14 source tell espn', 'new orleans is targeting kira lewis at no 13 source tell espn', 'new orleans ha been discussing trade scenario with the no 13 pick source tell espn', 'the king never imagined tyrese haliburton could get to them at no 12 source tell espn buthere he come', 'spur are targeting devin vassell at 11 per source', 'denver nugget g monte morris ha agreed to a three year 27m extension his agent ron shade tell espn', 'official anthony davis ha formally agreed to his five year 190m deal with the lakers klutchsports ceo rich paul tell espn URL', 'all nba forward anthony davis is finalizing a five year 190m maximum contract to stay with the los angeles lakers klutchsports ceo rich paul tell espn the deal includes an early termination option prior to fifth season in 2024 2025 deal could be signed a soon a today', 'the two gm washington tommy sheppard and houston rafael stone hadnt talked in week on the deal but connected this afternoon and had a deal done within a few hour source tell espn URL', 'houston ha agreed to trade russell westbrook to washington for john wall and a first round pick source tell espn', 'espn story on g monte morris reaching agreement on a three year 27m extension with the denver nugget URL', 'mcten great columnist even better man an absolute philly legend rip john', 'ryanruocco ccsabathia georgeakingiii r2c2 congrats on retirement to one of the true great', 'espn reporting with baxter malikaandrews and timbontemps on the nba warning of severe punishment to organization and player in violation of covid 19 guideline this season URL', 'full audio of blazer president neil olshey on the woj pod URL URL']\n[2. 0. 0. 1. 3. 3. 1. 0. 1. 1. 2. 3. 3. 3. 3. 3. 4. 4. 4. 3. 0. 5. 5. 4.\n 1. 5.]\n[0.0, 0.0, 0.0, 0.0, 0.0, 1.0, 1.0, 1.0, 1.0, 1.0, 2.0, 3.0, 3.0, 3.0, 3.0, 3.0, 4.0, 4.0, 4.0, 4.0, 4.0, 5.0, 5.0, 5.0, 5.0, 5.0]\nTest score with tfidf features: 0.6538461538461539\n"
     ]
    }
   ],
   "source": [
    "tfidfvectorizer = TfidfVectorizer(analyzer='word',stop_words= 'english')\n",
    "train_tfidf = tfidfvectorizer.fit_transform(trainX)\n",
    "test_tfidf = tfidfvectorizer.transform(testX)\n",
    "lr = LogisticRegression(solver=\"saga\")\n",
    "model = lr.fit(train_tfidf, trainY)\n",
    "print(testX)\n",
    "print(lr.predict(test_tfidf))\n",
    "print(testY)\n",
    "score = model.score(test_tfidf, testY)\n",
    "print(f'Test score with tfidf features: {score}')\n",
    "\n",
    "\n",
    "\n"
   ]
  },
  {
   "cell_type": "code",
   "execution_count": null,
   "metadata": {},
   "outputs": [],
   "source": []
  }
 ]
}